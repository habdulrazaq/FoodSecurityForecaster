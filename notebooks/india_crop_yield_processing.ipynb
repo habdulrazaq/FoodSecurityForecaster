{
 "cells": [
  {
   "cell_type": "code",
   "execution_count": 3,
   "metadata": {},
   "outputs": [
    {
     "data": {
      "text/html": [
       "<div>\n",
       "<style scoped>\n",
       "    .dataframe tbody tr th:only-of-type {\n",
       "        vertical-align: middle;\n",
       "    }\n",
       "\n",
       "    .dataframe tbody tr th {\n",
       "        vertical-align: top;\n",
       "    }\n",
       "\n",
       "    .dataframe thead th {\n",
       "        text-align: right;\n",
       "    }\n",
       "</style>\n",
       "<table border=\"1\" class=\"dataframe\">\n",
       "  <thead>\n",
       "    <tr style=\"text-align: right;\">\n",
       "      <th></th>\n",
       "      <th>YEAR</th>\n",
       "      <th>PRODUCTION</th>\n",
       "      <th>YIELD</th>\n",
       "    </tr>\n",
       "    <tr>\n",
       "      <th>CROP</th>\n",
       "      <th></th>\n",
       "      <th></th>\n",
       "      <th></th>\n",
       "    </tr>\n",
       "  </thead>\n",
       "  <tbody>\n",
       "    <tr>\n",
       "      <th>COCONUT</th>\n",
       "      <td>2780404</td>\n",
       "      <td>3.570001e+10</td>\n",
       "      <td>3.569103e+06</td>\n",
       "    </tr>\n",
       "    <tr>\n",
       "      <th>SUGARCANE</th>\n",
       "      <td>14205930</td>\n",
       "      <td>4.801196e+09</td>\n",
       "      <td>3.822949e+05</td>\n",
       "    </tr>\n",
       "    <tr>\n",
       "      <th>RICE</th>\n",
       "      <td>27696289</td>\n",
       "      <td>1.753448e+09</td>\n",
       "      <td>2.678660e+04</td>\n",
       "    </tr>\n",
       "    <tr>\n",
       "      <th>WHEAT</th>\n",
       "      <td>14376454</td>\n",
       "      <td>1.201578e+09</td>\n",
       "      <td>1.464499e+04</td>\n",
       "    </tr>\n",
       "    <tr>\n",
       "      <th>POTATO</th>\n",
       "      <td>12455948</td>\n",
       "      <td>3.371804e+08</td>\n",
       "      <td>9.293424e+04</td>\n",
       "    </tr>\n",
       "  </tbody>\n",
       "</table>\n",
       "</div>"
      ],
      "text/plain": [
       "               YEAR    PRODUCTION         YIELD\n",
       "CROP                                           \n",
       "COCONUT     2780404  3.570001e+10  3.569103e+06\n",
       "SUGARCANE  14205930  4.801196e+09  3.822949e+05\n",
       "RICE       27696289  1.753448e+09  2.678660e+04\n",
       "WHEAT      14376454  1.201578e+09  1.464499e+04\n",
       "POTATO     12455948  3.371804e+08  9.293424e+04"
      ]
     },
     "execution_count": 3,
     "metadata": {},
     "output_type": "execute_result"
    }
   ],
   "source": [
    "import pandas as pd\n",
    "india = pd.read_csv('../raw_data/Crop yield data/COUNTY_level_annual/india original.csv', )\n",
    "india = india.drop(columns=['Unnamed: 0', 'AREA', 'DISTRICT', 'YIELD.RM.OUT', 'SEASON'])\n",
    "india = india[ india['YIELD'] >0]\n",
    "india.groupby('CROP').sum().sort_values(by=['PRODUCTION', 'YEAR'], ascending=False).head(5)\n"
   ]
  },
  {
   "cell_type": "code",
   "execution_count": 11,
   "metadata": {},
   "outputs": [
    {
     "data": {
      "text/plain": [
       "(7171, 5)"
      ]
     },
     "execution_count": 11,
     "metadata": {},
     "output_type": "execute_result"
    }
   ],
   "source": [
    "india_COCONUT = india[ india['CROP'] == 'COCONUT']  \n",
    "india_SUGARCANE = india  [ india['CROP'] == 'SUGARCANE']  \n",
    "india_RICE = india  [ india['CROP'] == 'RICE']  \n",
    "india_WHEAT = india  [ india['CROP'] == 'WHEAT']  \n",
    "india_WHEAT.shape"
   ]
  },
  {
   "cell_type": "code",
   "execution_count": 12,
   "metadata": {},
   "outputs": [],
   "source": [
    "india_COCONUT = india_COCONUT.groupby(['STATE', 'YEAR']).mean()\n",
    "india_SUGARCANE = india_SUGARCANE.groupby(['STATE', 'YEAR']).mean()\n",
    "india_RICE = india_RICE.groupby(['STATE', 'YEAR']).mean()\n",
    "india_WHEAT = india_WHEAT.groupby(['STATE', 'YEAR']).mean()"
   ]
  },
  {
   "cell_type": "code",
   "execution_count": 13,
   "metadata": {},
   "outputs": [],
   "source": [
    "#india_COCONUT = india_COCONUT.to_csv('../raw_data/Crop yield data/COUNTY_level_annual/india_COCONUT.csv')\n",
    "#india_SUGARCANE = india_SUGARCANE.to_csv('../raw_data/Crop yield data/COUNTY_level_annual/india_SUGARCANE.csv')\n",
    "#india_RICE = india_RICE.to_csv('../raw_data/Crop yield data/COUNTY_level_annual/india_RICE.csv')\n",
    "#india_WHEAT = india_WHEAT.to_csv('../raw_data/Crop yield data/COUNTY_level_annual/india_WHEAT.csv')"
   ]
  },
  {
   "cell_type": "code",
   "execution_count": null,
   "metadata": {},
   "outputs": [],
   "source": []
  },
  {
   "cell_type": "code",
   "execution_count": null,
   "metadata": {},
   "outputs": [],
   "source": []
  }
 ],
 "metadata": {
  "kernelspec": {
   "display_name": "Python 3.8.12 64-bit ('FoodSecurityForecaster')",
   "language": "python",
   "name": "python3"
  },
  "language_info": {
   "codemirror_mode": {
    "name": "ipython",
    "version": 3
   },
   "file_extension": ".py",
   "mimetype": "text/x-python",
   "name": "python",
   "nbconvert_exporter": "python",
   "pygments_lexer": "ipython3",
   "version": "3.8.12"
  },
  "orig_nbformat": 4,
  "vscode": {
   "interpreter": {
    "hash": "699d2bdd9feeab5834692343258bee0bd0421c4198c8c81a07712685e5a2dca3"
   }
  }
 },
 "nbformat": 4,
 "nbformat_minor": 2
}
