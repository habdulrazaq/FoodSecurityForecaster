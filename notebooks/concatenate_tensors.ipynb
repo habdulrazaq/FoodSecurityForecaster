{
 "cells": [
  {
   "cell_type": "code",
   "execution_count": 2,
   "id": "dd10ee06",
   "metadata": {},
   "outputs": [
    {
     "name": "stderr",
     "output_type": "stream",
     "text": [
      "2022-09-11 01:26:42.534582: W tensorflow/stream_executor/platform/default/dso_loader.cc:64] Could not load dynamic library 'libcudart.so.11.0'; dlerror: libcudart.so.11.0: cannot open shared object file: No such file or directory\n",
      "2022-09-11 01:26:42.534641: I tensorflow/stream_executor/cuda/cudart_stub.cc:29] Ignore above cudart dlerror if you do not have a GPU set up on your machine.\n"
     ]
    }
   ],
   "source": [
    "import pandas as pd\n",
    "import numpy as np\n",
    "import os\n",
    "import matplotlib.pyplot as plt   \n",
    "import tensorflow as tf  "
   ]
  },
  {
   "cell_type": "code",
   "execution_count": 3,
   "id": "bfab3ddb",
   "metadata": {},
   "outputs": [],
   "source": [
    "X_data_refl = np.load(f'data/USA_8states_data_MOD09A1.npz')\n",
    "X_data_temp = np.load(f'data/USA_8states_data_MYD11A2.npz')\n",
    "useful_bands_refl = X_data_refl['X'][:,:,:,:,:]\n",
    "useful_bands_temp = X_data_temp['X'][:,:,:,:,[0,1,2,3,8,9]]"
   ]
  },
  {
   "cell_type": "code",
   "execution_count": 4,
   "id": "55eb9bcd",
   "metadata": {},
   "outputs": [
    {
     "data": {
      "text/plain": [
       "(18, 8, 46, 30, 7)"
      ]
     },
     "execution_count": 4,
     "metadata": {},
     "output_type": "execute_result"
    }
   ],
   "source": [
    "useful_bands_refl.shape # [0,1,2,3,8,9]"
   ]
  },
  {
   "cell_type": "code",
   "execution_count": 5,
   "id": "059d6313",
   "metadata": {},
   "outputs": [
    {
     "data": {
      "text/plain": [
       "(18, 8, 46, 30, 6)"
      ]
     },
     "execution_count": 5,
     "metadata": {},
     "output_type": "execute_result"
    }
   ],
   "source": [
    "useful_bands_temp.shape # [0,1,2,3,8,9]"
   ]
  },
  {
   "cell_type": "code",
   "execution_count": 49,
   "id": "bb879a1d",
   "metadata": {},
   "outputs": [
    {
     "data": {
      "image/png": "[encoded data removed]",
      "text/plain": [
       "<Figure size 640x480 with 1 Axes>"
      ]
     },
     "metadata": {},
     "output_type": "display_data"
    }
   ],
   "source": [
    "plt.imshow(useful_bands_refl[0,0,:,:,4].T);"
   ]
  },
  {
   "cell_type": "code",
   "execution_count": 6,
   "id": "47886c61",
   "metadata": {},
   "outputs": [
    {
     "name": "stderr",
     "output_type": "stream",
     "text": [
      "2022-09-11 01:26:48.235064: W tensorflow/stream_executor/platform/default/dso_loader.cc:64] Could not load dynamic library 'libcuda.so.1'; dlerror: libcuda.so.1: cannot open shared object file: No such file or directory\n",
      "2022-09-11 01:26:48.235104: W tensorflow/stream_executor/cuda/cuda_driver.cc:269] failed call to cuInit: UNKNOWN ERROR (303)\n",
      "2022-09-11 01:26:48.235120: I tensorflow/stream_executor/cuda/cuda_diagnostics.cc:156] kernel driver does not appear to be running on this host (HA-Desktop): /proc/driver/nvidia/version does not exist\n",
      "2022-09-11 01:26:48.235338: I tensorflow/core/platform/cpu_feature_guard.cc:193] This TensorFlow binary is optimized with oneAPI Deep Neural Network Library (oneDNN) to use the following CPU instructions in performance-critical operations:  AVX2 FMA\n",
      "To enable them in other operations, rebuild TensorFlow with the appropriate compiler flags.\n"
     ]
    },
    {
     "data": {
      "text/plain": [
       "TensorShape([18, 8, 46, 30, 13])"
      ]
     },
     "execution_count": 6,
     "metadata": {},
     "output_type": "execute_result"
    }
   ],
   "source": [
    "X_data = tf.concat([useful_bands_refl, useful_bands_temp], 4)\n",
    "X_data.shape"
   ]
  },
  {
   "cell_type": "code",
   "execution_count": null,
   "id": "4257f1e7",
   "metadata": {},
   "outputs": [],
   "source": []
  },
  {
   "cell_type": "code",
   "execution_count": 11,
   "id": "17eafbfa",
   "metadata": {},
   "outputs": [
    {
     "data": {
      "text/plain": [
       "TensorShape([19, 30, 46, 30, 13])"
      ]
     },
     "execution_count": 11,
     "metadata": {},
     "output_type": "execute_result"
    }
   ],
   "source": [
    "X_data_a = np.load(f'data/USA_other_states_data_MOD09A1_a.npz')\n",
    "X_a = X_data_a['X']\n",
    "X_data_b = np.load(f'data/USA_other_states_data_MOD09A1_b.npz')\n",
    "X_b = X_data_b['X']\n",
    "X_data_c = np.load(f'data/USA_other_states_data_MOD09A1_c.npz')\n",
    "X_c = X_data_c['X']\n",
    "X_data_d = np.load(f'data/USA_other_states_data_MOD09A1_d.npz')\n",
    "X_d = X_data_d['X']\n",
    "X_data_e = np.load(f'data/USA_other_states_data_MOD09A1_e.npz')\n",
    "X_e = X_data_e['X']\n",
    "X_data_f = np.load(f'data/USA_other_states_data_MOD09A1_f.npz')\n",
    "X_f = X_data_f['X']\n",
    "X_data_g = np.load(f'data/USA_other_states_data_MOD09A1_g.npz')\n",
    "X_g = X_data_g['X']\n",
    "X_data_h = np.load(f'data/USA_other_states_data_MOD09A1_h.npz')\n",
    "X_h = X_data_h['X']\n",
    "X_data = tf.concat([X_a, X_b, X_c, X_d, X_e, X_f, X_g, X_h], 1)\n",
    "X_data.shape"
   ]
  },
  {
   "cell_type": "code",
   "execution_count": 10,
   "id": "ba1c77f0",
   "metadata": {},
   "outputs": [],
   "source": [
    "\n",
    "np.savez_compressed('data/USA_all_states_data_MOD09A1', X=X_data, \n",
    "                    county_names= ['Delaware', 'District of Columbia', 'Florida', 'Hawaii', 'Idaho', 'Iowa', \n",
    "                                   'Kansas', 'Kentucky', 'Louisiana', 'Maryland', \n",
    "                                   'Michigan', 'Minnesota', 'Missouri', 'Montana', 'Nebraska', 'Nevada', \n",
    "                                   'New Hampshire', 'New Jersey', 'North Carolina', 'Ohio', 'Oregon', 'Pennsylvania', 'Rhode Island'\n",
    "                                   'Tennessee', 'Texas', 'Utah', 'Vermont', 'Virginia', 'Washington', 'Wisconsin', 'Wyoming'] )"
   ]
  },
  {
   "cell_type": "code",
   "execution_count": null,
   "id": "db9ca2c9",
   "metadata": {},
   "outputs": [],
   "source": []
  }
 ],
 "metadata": {
  "kernelspec": {
   "display_name": "Python 3.8.12 64-bit ('FoodSecurityForecaster')",
   "language": "python",
   "name": "python3"
  },
  "language_info": {
   "codemirror_mode": {
    "name": "ipython",
    "version": 3
   },
   "file_extension": ".py",
   "mimetype": "text/x-python",
   "name": "python",
   "nbconvert_exporter": "python",
   "pygments_lexer": "ipython3",
   "version": "3.8.12"
  },
  "toc": {
   "base_numbering": 1,
   "nav_menu": {},
   "number_sections": true,
   "sideBar": true,
   "skip_h1_title": false,
   "title_cell": "Table of Contents",
   "title_sidebar": "Contents",
   "toc_cell": false,
   "toc_position": {},
   "toc_section_display": true,
   "toc_window_display": false
  },
  "vscode": {
   "interpreter": {
    "hash": "699d2bdd9feeab5834692343258bee0bd0421c4198c8c81a07712685e5a2dca3"
   }
  }
 },
 "nbformat": 4,
 "nbformat_minor": 5
}
