{
 "cells": [
  {
   "cell_type": "code",
   "execution_count": 1,
   "id": "c2018d95",
   "metadata": {},
   "outputs": [
    {
     "ename": "NameError",
     "evalue": "name 'pd' is not defined",
     "output_type": "error",
     "traceback": [
      "\u001b[0;31m---------------------------------------------------------------------------\u001b[0m",
      "\u001b[0;31mNameError\u001b[0m                                 Traceback (most recent call last)",
      "Input \u001b[0;32mIn [1]\u001b[0m, in \u001b[0;36m<cell line: 1>\u001b[0;34m()\u001b[0m\n\u001b[0;32m----> 1\u001b[0m \u001b[43mpd\u001b[49m\u001b[38;5;241m.\u001b[39m__version__\n",
      "\u001b[0;31mNameError\u001b[0m: name 'pd' is not defined"
     ]
    }
   ],
   "source": [
    "pd.__version__"
   ]
  },
  {
   "cell_type": "code",
   "execution_count": 2,
   "id": "98632f5f",
   "metadata": {},
   "outputs": [],
   "source": [
    "import collections\n",
    "from datetime import date, timedelta\n",
    "import os\n",
    "from socket import timeout\n",
    "import sys\n",
    "\n",
    "import ee\n",
    "from ee import ImageCollection\n",
    "import geemap\n",
    "import numpy as np\n",
    "import pandas as pd\n",
    "ee.Initialize()"
   ]
  },
  {
   "cell_type": "markdown",
   "id": "43f0ada6",
   "metadata": {},
   "source": [
    "# Test if shapefile works"
   ]
  },
  {
   "cell_type": "code",
   "execution_count": 18,
   "id": "119dbbbb",
   "metadata": {},
   "outputs": [
    {
     "name": "stdout",
     "output_type": "stream",
     "text": [
      "/home/hassib12/code/hassib12/FoodSecurityForecaster/notebooks\r\n"
     ]
    }
   ],
   "source": [
    "!pwd"
   ]
  },
  {
   "cell_type": "code",
   "execution_count": 56,
   "id": "4344f6f8",
   "metadata": {},
   "outputs": [],
   "source": [
    "states_shp = f'../raw_data/IND/admin1/ind.shp'\n",
    "ee_shape = geemap.shp_to_ee(states_shp)"
   ]
  },
  {
   "cell_type": "code",
   "execution_count": 57,
   "id": "8b97d6f0",
   "metadata": {},
   "outputs": [],
   "source": [
    "county_Bahr_al_Jabal = ee_shape.filter(ee.Filter.eq(\"NAME1_\", 'Assam'))"
   ]
  },
  {
   "cell_type": "code",
   "execution_count": 58,
   "id": "c106c779",
   "metadata": {},
   "outputs": [
    {
     "data": {
      "text/plain": [
       "ee.featurecollection.FeatureCollection"
      ]
     },
     "execution_count": 58,
     "metadata": {},
     "output_type": "execute_result"
    }
   ],
   "source": [
    "type(county_Bahr_al_Jabal)"
   ]
  },
  {
   "cell_type": "code",
   "execution_count": 59,
   "id": "19e6e955",
   "metadata": {},
   "outputs": [
    {
     "data": {
      "application/vnd.jupyter.widget-view+json": {
       "model_id": "f32c51d2b44549fda01ed477c4bfe6a2",
       "version_major": 2,
       "version_minor": 0
      },
      "text/plain": [
       "Map(center=[20, 0], controls=(WidgetControl(options=['position', 'transparent_bg'], widget=HBox(children=(Togg…"
      ]
     },
     "execution_count": 59,
     "metadata": {},
     "output_type": "execute_result"
    }
   ],
   "source": [
    "map = geemap.Map()\n",
    "map.addLayer(county_Bahr_al_Jabal)\n",
    "map"
   ]
  },
  {
   "cell_type": "code",
   "execution_count": null,
   "id": "3cccc863",
   "metadata": {},
   "outputs": [],
   "source": [
    "state_names = pd.read_csv('../raw_data/state_names_USA.csv')['NAME1_,C,33']\n",
    "state_names.head(2)"
   ]
  },
  {
   "cell_type": "code",
   "execution_count": null,
   "id": "8dca1acd",
   "metadata": {},
   "outputs": [],
   "source": [
    "def download_map(country_code,\n",
    "                 state_name,\n",
    "                 date_range=('2021-01-01','2022-12-30'),\n",
    "                 modis_collection='006/MOD13A1',\n",
    "                 num_pixels=1000):\n",
    "    Map = geemap.Map()\n",
    "    lower_case_country_code = country_code.lower\n",
    "    states_shp = f'../raw_data/USA/admin1/USA.shp'\n",
    " \n",
    "    ee_shape = geemap.shp_to_ee(states_shp)\n",
    "    state_ee = ee_shape.filter(ee.Filter.eq(\"NAME1_,C,33\", state_name))\n",
    "\n",
    "    \n",
    "    Map.addLayer(state_ee.geometry())\n",
    "\n",
    "    image_collection = ee.ImageCollection(f'MODIS/{modis_collection}').filter(ee.Filter.date(*date_range)).toBands()\n",
    "\n",
    "    region = state_ee.geometry()\n",
    "\n",
    "    samples = image_collection.sample(region, scale=300 , numPixels=num_pixels)\n",
    "\n",
    "    print(\"samples:\", samples)\n",
    "    features = samples.getInfo()['features']\n",
    "    print(\"features:\", features)\n",
    "\n",
    "    data = []\n",
    "    for feature_set in features:\n",
    "        \n",
    "        for k, v in feature_set['properties'].items():\n",
    "            date, property_name = k[:10], k[11:]\n",
    "            date = date.replace('_', '-')\n",
    "            data.append({'band': property_name, 'date': date, 'value': v})\n",
    "\n",
    "    df = pd.DataFrame(data)\n",
    "    df['date'] = pd.to_datetime(df['date'], infer_datetime_format=True)\n",
    "    df.attrs['state_name'] = state_name\n",
    "    df['band'] = df['band'].astype(\"category\")\n",
    "\n",
    "    return df\n",
    "\n",
    "def load_all(country_code='SSD', admin_level='admin1', date_range=('2010-01-01', '2018-01-01'), modis_collection='006/MOD13A1', num_pixels=1000):\n",
    "    lower_case_country_code = country_code.lower\n",
    "    states_shp = f'../raw_data/USA/admin1/USA.shp'\n",
    "\n",
    "    #ee_shape = geemap.shp_to_ee(states_shp)\n",
    "    #geemap.common.ee_to_csv(ee_shape, \"tmp.csv\", timeout=1000)\n",
    "\n",
    "    # state_names = pd.read_csv('tmp.csv')['NAME1_']\n",
    "    # os.remove('tmp.csv') \n",
    "    \n",
    "    for state_name in state_names:\n",
    "        print(f'working on:{state_name}')\n",
    "        df = download_map(country_code, state_name, date_range, modis_collection, num_pixels)\n",
    "        df.to_pickle(f'../raw_data/raw_pixels/USA/{state_name}.zip')\n",
    "        print(f\"Downloaded data for {state_name}...\")\n",
    "\n",
    "# if __name__ == \"__main__\":\n",
    "#     ee.Initialize()\n",
    "#     load_all(sys.argv[1])\n"
   ]
  },
  {
   "cell_type": "code",
   "execution_count": null,
   "id": "4b69bb30",
   "metadata": {},
   "outputs": [],
   "source": [
    "load_all('USA')"
   ]
  },
  {
   "cell_type": "markdown",
   "id": "c12d4220",
   "metadata": {},
   "source": [
    "# SOUTH SUDAN"
   ]
  },
  {
   "cell_type": "code",
   "execution_count": null,
   "id": "d877531d",
   "metadata": {},
   "outputs": [],
   "source": [
    "state_names = pd.read_csv('../raw_data/state_names_SSD.csv')['NAME_2,C,13']\n",
    "state_names.head()"
   ]
  },
  {
   "cell_type": "code",
   "execution_count": null,
   "id": "4d20e677",
   "metadata": {},
   "outputs": [],
   "source": [
    "def download_map(country_code,\n",
    "                 state_name,\n",
    "                 date_range=('2021-01-01','2022-12-30'),\n",
    "                 modis_collection='006/MOD13A1',\n",
    "                 num_pixels=1000):\n",
    "    Map = geemap.Map()\n",
    "    lower_case_country_code = country_code.lower\n",
    "    states_shp = f'../raw_data/raw_data/gadm41_SSD_shp/gadm41_SSD_2.shp'\n",
    " \n",
    "    ee_shape = geemap.shp_to_ee(states_shp)\n",
    "    state_ee = ee_shape.filter(ee.Filter.eq([\"NAME_2\"], state_name))\n",
    "    Map.addLayer(state_ee.geometry())\n",
    "\n",
    "    image_collection = ee.ImageCollection(f'MODIS/{modis_collection}').filter(ee.Filter.date(*date_range)).toBands()\n",
    "\n",
    "    region = state_ee.geometry()\n",
    "\n",
    "    samples = image_collection.sample(region, scale=300 , numPixels=num_pixels)\n",
    "\n",
    "    features = samples.getInfo()['features']\n",
    "\n",
    "    data = []\n",
    "    for feature_set in features:\n",
    "        for k, v in feature_set['properties'].items():\n",
    "            date, property_name = k[:10], k[11:]\n",
    "            date = date.replace('_', '-')\n",
    "            data.append({'band': property_name, 'date': date, 'value': v})\n",
    "\n",
    "    df = pd.DataFrame(data)\n",
    "    df['date'] = pd.to_datetime(df['date'], infer_datetime_format=True)\n",
    "    df.attrs['state_name'] = state_name\n",
    "    df['band'] = df['band'].astype(\"category\")\n",
    "\n",
    "    return df\n",
    "\n",
    "def load_all(country_code='SSD', admin_level='admin1', date_range=('2010-01-01', '2018-01-01'), modis_collection='006/MOD13A1', num_pixels=1000):\n",
    "    lower_case_country_code = country_code.lower\n",
    "    states_shp = f'../raw_data/raw_data/gadm41_SSD_shp/gadm41_SSD_2.shp'\n",
    "\n",
    "    #ee_shape = geemap.shp_to_ee(states_shp)\n",
    "    #geemap.common.ee_to_csv(ee_shape, \"tmp.csv\", timeout=1000)\n",
    "\n",
    "    # state_names = pd.read_csv('tmp.csv')['NAME1_']\n",
    "    # os.remove('tmp.csv') \n",
    "    \n",
    "    for state_name in state_names:\n",
    "        print(f'working on:{state_name}')\n",
    "        df = download_map(country_code, state_name, date_range, modis_collection, num_pixels)\n",
    "        df.to_pickle(f'../raw_data/raw_pixels/{state_name}.zip')\n",
    "        print(f\"Downloaded data for {state_name}...\")\n",
    "\n",
    "# if __name__ == \"__main__\":\n",
    "#     ee.Initialize()\n",
    "#     load_all(sys.argv[1])"
   ]
  },
  {
   "cell_type": "code",
   "execution_count": null,
   "id": "49251a8e",
   "metadata": {},
   "outputs": [],
   "source": [
    "load_all()"
   ]
  },
  {
   "cell_type": "code",
   "execution_count": null,
   "id": "7626ee11",
   "metadata": {},
   "outputs": [],
   "source": []
  }
 ],
 "metadata": {
  "kernelspec": {
   "display_name": "Python 3 (ipykernel)",
   "language": "python",
   "name": "python3"
  },
  "language_info": {
   "codemirror_mode": {
    "name": "ipython",
    "version": 3
   },
   "file_extension": ".py",
   "mimetype": "text/x-python",
   "name": "python",
   "nbconvert_exporter": "python",
   "pygments_lexer": "ipython3",
   "version": "3.8.12"
  },
  "toc": {
   "base_numbering": 1,
   "nav_menu": {},
   "number_sections": true,
   "sideBar": true,
   "skip_h1_title": false,
   "title_cell": "Table of Contents",
   "title_sidebar": "Contents",
   "toc_cell": false,
   "toc_position": {},
   "toc_section_display": true,
   "toc_window_display": false
  },
  "vscode": {
   "interpreter": {
    "hash": "256a08527501457108049896245f661e306d498b0e59a5668670d2e3b630dd5c"
   }
  }
 },
 "nbformat": 4,
 "nbformat_minor": 5
}
