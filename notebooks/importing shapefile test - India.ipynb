{
 "cells": [
  {
   "cell_type": "code",
   "execution_count": 6,
   "id": "c2018d95",
   "metadata": {},
   "outputs": [
    {
     "data": {
      "text/plain": [
       "'1.3.5'"
      ]
     },
     "execution_count": 6,
     "metadata": {},
     "output_type": "execute_result"
    }
   ],
   "source": [
    "pd.__version__"
   ]
  },
  {
   "cell_type": "code",
<<<<<<< HEAD
   "execution_count": 1,
=======
   "execution_count": 5,
>>>>>>> 3f0734057fca272d5ba8a59b6361ec90a31c5b59
   "id": "98632f5f",
   "metadata": {},
   "outputs": [],
   "source": [
    "import collections\n",
    "from datetime import date, timedelta\n",
    "import os\n",
    "from socket import timeout\n",
    "import sys\n",
    "\n",
    "import ee\n",
    "from ee import ImageCollection\n",
    "import geemap\n",
    "import numpy as np\n",
    "import pandas as pd\n",
    "ee.Initialize()"
   ]
  },
  {
   "cell_type": "markdown",
   "id": "43f0ada6",
   "metadata": {},
   "source": [
    "# Test if shapefile works"
   ]
  },
  {
   "cell_type": "code",
   "execution_count": 2,
   "id": "119dbbbb",
   "metadata": {},
   "outputs": [
    {
     "name": "stdout",
     "output_type": "stream",
     "text": [
      "/home/hassib12/code/hassib12/FoodSecurityForecaster/notebooks\r\n"
     ]
    }
   ],
   "source": [
    "!pwd"
   ]
  },
  {
   "cell_type": "code",
<<<<<<< HEAD
   "execution_count": 2,
=======
   "execution_count": 42,
>>>>>>> 3f0734057fca272d5ba8a59b6361ec90a31c5b59
   "id": "4344f6f8",
   "metadata": {},
   "outputs": [
    {
     "name": "stderr",
     "output_type": "stream",
     "text": [
      "/home/hassib12/.pyenv/versions/3.8.12/envs/FoodSecurityForecaster/lib/python3.8/site-packages/geemap/common.py:8493: UserWarning: The projection file /home/hassib12/code/hassib12/FoodSecurityForecaster/raw_data/IND/admin1/ind.prj could not be found. Assuming the dataset is in a geographic coordinate system (GCS).\n",
      "  warnings.warn(\n"
     ]
    }
   ],
   "source": [
    "states_shp = f'../raw_data/USA/admin1/USA.shp'\n",
    "#ee_shape = geemap.shp_to_ee(states_shp)\n",
    "ee_shape = ee_shape.filter(ee.Filter.eq(\"NAME1_,C,33\", 'Kansas'))"
   ]
  },
  {
   "cell_type": "code",
<<<<<<< HEAD
   "execution_count": 3,
   "id": "8b97d6f0",
=======
   "execution_count": 43,
   "id": "73fe3892",
>>>>>>> 3f0734057fca272d5ba8a59b6361ec90a31c5b59
   "metadata": {},
   "outputs": [],
   "source": [
    "map = geemap.Map()\n",
    "map.addLayer(ee_shape)"
   ]
  },
  {
   "cell_type": "code",
<<<<<<< HEAD
   "execution_count": 4,
   "id": "c106c779",
=======
   "execution_count": 44,
   "id": "19e6e955",
>>>>>>> 3f0734057fca272d5ba8a59b6361ec90a31c5b59
   "metadata": {},
   "outputs": [
    {
     "data": {
      "application/vnd.jupyter.widget-view+json": {
       "model_id": "20d1d1bb37ca426187ef6136d67b4d8c",
       "version_major": 2,
       "version_minor": 0
      },
      "text/plain": [
       "Map(center=[20, 0], controls=(WidgetControl(options=['position', 'transparent_bg'], widget=HBox(children=(Togg…"
      ]
     },
<<<<<<< HEAD
     "execution_count": 4,
=======
     "execution_count": 44,
>>>>>>> 3f0734057fca272d5ba8a59b6361ec90a31c5b59
     "metadata": {},
     "output_type": "execute_result"
    }
   ],
   "source": [
    "map"
   ]
  },
  {
   "cell_type": "code",
<<<<<<< HEAD
   "execution_count": 5,
   "id": "19e6e955",
=======
   "execution_count": 12,
   "id": "3cccc863",
>>>>>>> 3f0734057fca272d5ba8a59b6361ec90a31c5b59
   "metadata": {},
   "outputs": [
    {
     "data": {
<<<<<<< HEAD
      "application/vnd.jupyter.widget-view+json": {
       "model_id": "3228014042b3460897b988c806db6d33",
       "version_major": 2,
       "version_minor": 0
      },
=======
>>>>>>> 3f0734057fca272d5ba8a59b6361ec90a31c5b59
      "text/plain": [
       "0    Alabama\n",
       "1     Alaska\n",
       "Name: NAME1_,C,33, dtype: object"
      ]
     },
<<<<<<< HEAD
     "execution_count": 5,
=======
     "execution_count": 12,
>>>>>>> 3f0734057fca272d5ba8a59b6361ec90a31c5b59
     "metadata": {},
     "output_type": "execute_result"
    }
   ],
   "source": [
<<<<<<< HEAD
    "map = geemap.Map()\n",
    "map.addLayer(county_Bahr_al_Jabal)\n",
    "map"
   ]
  },
  {
   "cell_type": "code",
   "execution_count": 7,
   "id": "3cccc863",
   "metadata": {},
   "outputs": [
    {
     "data": {
      "text/plain": [
       "0    Alabama\n",
       "1     Alaska\n",
       "Name: NAME1_,C,33, dtype: object"
      ]
     },
     "execution_count": 7,
     "metadata": {},
     "output_type": "execute_result"
    }
   ],
   "source": [
=======
>>>>>>> 3f0734057fca272d5ba8a59b6361ec90a31c5b59
    "state_names = pd.read_csv('../raw_data/state_names_USA.csv')['NAME1_,C,33']\n",
    "state_names.head(2)"
   ]
  },
  {
   "cell_type": "code",
<<<<<<< HEAD
   "execution_count": 15,
   "id": "8dca1acd",
   "metadata": {},
   "outputs": [
    {
     "data": {
      "application/vnd.jupyter.widget-view+json": {
       "model_id": "6b89962601f9437da23f913919694104",
       "version_major": 2,
       "version_minor": 0
      },
      "text/plain": [
       "Map(center=[20, 0], controls=(WidgetControl(options=['position', 'transparent_bg'], widget=HBox(children=(Togg…"
      ]
     },
     "execution_count": 15,
     "metadata": {},
     "output_type": "execute_result"
    }
   ],
=======
   "execution_count": 33,
   "id": "8dca1acd",
   "metadata": {},
   "outputs": [],
   "source": [
    "def download_map(country_code,\n",
    "                 state_name,\n",
    "                 date_range=('2021-01-01','2022-12-30'),\n",
    "                 modis_collection='006/MOD13A1',\n",
    "                 num_pixels=1000):\n",
    "    Map = geemap.Map()\n",
    "    lower_case_country_code = country_code.lower\n",
    "    states_shp = f'../raw_data/USA/admin1/USA.shp'\n",
    " \n",
    "    ee_shape = geemap.shp_to_ee(states_shp)\n",
    "    state_ee = ee_shape.filter(ee.Filter.eq(\"NAME1_,C,33\", state_name))\n",
    "\n",
    "    \n",
    "    Map.addLayer(state_ee.geometry())\n",
    "\n",
    "    image_collection = ee.ImageCollection(f'MODIS/{modis_collection}').filter(ee.Filter.date(*date_range)).toBands()\n",
    "\n",
    "    region = state_ee.geometry()\n",
    "\n",
    "    samples = image_collection.sample(region, scale=300 , numPixels=num_pixels)\n",
    "\n",
    "    print(\"samples:\", samples)\n",
    "    features = samples.getInfo()['features']\n",
    "    print(\"features:\", features)\n",
    "\n",
    "    data = []\n",
    "    for feature_set in features:\n",
    "        \n",
    "        for k, v in feature_set['properties'].items():\n",
    "            date, property_name = k[:10], k[11:]\n",
    "            date = date.replace('_', '-')\n",
    "            data.append({'band': property_name, 'date': date, 'value': v})\n",
    "\n",
    "    df = pd.DataFrame(data)\n",
    "    df['date'] = pd.to_datetime(df['date'], infer_datetime_format=True)\n",
    "    df.attrs['state_name'] = state_name\n",
    "    df['band'] = df['band'].astype(\"category\")\n",
    "\n",
    "    return df\n",
    "\n",
    "def load_all(country_code='SSD', admin_level='admin1', date_range=('2010-01-01', '2018-01-01'), modis_collection='006/MOD13A1', num_pixels=1000):\n",
    "    lower_case_country_code = country_code.lower\n",
    "    states_shp = f'../raw_data/USA/admin1/USA.shp'\n",
    "\n",
    "    #ee_shape = geemap.shp_to_ee(states_shp)\n",
    "    #geemap.common.ee_to_csv(ee_shape, \"tmp.csv\", timeout=1000)\n",
    "\n",
    "    # state_names = pd.read_csv('tmp.csv')['NAME1_']\n",
    "    # os.remove('tmp.csv') \n",
    "    \n",
    "    for state_name in state_names:\n",
    "        print(f'working on:{state_name}')\n",
    "        df = download_map(country_code, state_name, date_range, modis_collection, num_pixels)\n",
    "        df.to_pickle(f'../raw_data/raw_pixels/USA/{state_name}.zip')\n",
    "        print(f\"Downloaded data for {state_name}...\")\n",
    "\n",
    "# if __name__ == \"__main__\":\n",
    "#     ee.Initialize()\n",
    "#     load_all(sys.argv[1])\n"
   ]
  },
  {
   "cell_type": "code",
   "execution_count": 34,
   "id": "4b69bb30",
   "metadata": {},
   "outputs": [
    {
     "name": "stdout",
     "output_type": "stream",
     "text": [
      "working on:Alabama\n",
      "samples: "
     ]
    },
    {
     "name": "stderr",
     "output_type": "stream",
     "text": [
      "IOPub data rate exceeded.\n",
      "The notebook server will temporarily stop sending output\n",
      "to the client in order to avoid crashing it.\n",
      "To change this limit, set the config variable\n",
      "`--NotebookApp.iopub_data_rate_limit`.\n",
      "\n",
      "Current values:\n",
      "NotebookApp.iopub_data_rate_limit=1000000.0 (bytes/sec)\n",
      "NotebookApp.rate_limit_window=3.0 (secs)\n",
      "\n"
     ]
    },
    {
     "name": "stdout",
     "output_type": "stream",
     "text": [
      "features: []\n"
     ]
    },
    {
     "ename": "KeyError",
     "evalue": "'date'",
     "output_type": "error",
     "traceback": [
      "\u001b[0;31m---------------------------------------------------------------------------\u001b[0m",
      "\u001b[0;31mKeyError\u001b[0m                                  Traceback (most recent call last)",
      "File \u001b[0;32m~/.pyenv/versions/3.8.12/envs/FoodSecurityForecaster/lib/python3.8/site-packages/pandas/core/indexes/base.py:3629\u001b[0m, in \u001b[0;36mIndex.get_loc\u001b[0;34m(self, key, method, tolerance)\u001b[0m\n\u001b[1;32m   3628\u001b[0m \u001b[38;5;28;01mtry\u001b[39;00m:\n\u001b[0;32m-> 3629\u001b[0m     \u001b[38;5;28;01mreturn\u001b[39;00m \u001b[38;5;28;43mself\u001b[39;49m\u001b[38;5;241;43m.\u001b[39;49m\u001b[43m_engine\u001b[49m\u001b[38;5;241;43m.\u001b[39;49m\u001b[43mget_loc\u001b[49m\u001b[43m(\u001b[49m\u001b[43mcasted_key\u001b[49m\u001b[43m)\u001b[49m\n\u001b[1;32m   3630\u001b[0m \u001b[38;5;28;01mexcept\u001b[39;00m \u001b[38;5;167;01mKeyError\u001b[39;00m \u001b[38;5;28;01mas\u001b[39;00m err:\n",
      "File \u001b[0;32m~/.pyenv/versions/3.8.12/envs/FoodSecurityForecaster/lib/python3.8/site-packages/pandas/_libs/index.pyx:136\u001b[0m, in \u001b[0;36mpandas._libs.index.IndexEngine.get_loc\u001b[0;34m()\u001b[0m\n",
      "File \u001b[0;32m~/.pyenv/versions/3.8.12/envs/FoodSecurityForecaster/lib/python3.8/site-packages/pandas/_libs/index.pyx:163\u001b[0m, in \u001b[0;36mpandas._libs.index.IndexEngine.get_loc\u001b[0;34m()\u001b[0m\n",
      "File \u001b[0;32mpandas/_libs/hashtable_class_helper.pxi:5198\u001b[0m, in \u001b[0;36mpandas._libs.hashtable.PyObjectHashTable.get_item\u001b[0;34m()\u001b[0m\n",
      "File \u001b[0;32mpandas/_libs/hashtable_class_helper.pxi:5206\u001b[0m, in \u001b[0;36mpandas._libs.hashtable.PyObjectHashTable.get_item\u001b[0;34m()\u001b[0m\n",
      "\u001b[0;31mKeyError\u001b[0m: 'date'",
      "\nThe above exception was the direct cause of the following exception:\n",
      "\u001b[0;31mKeyError\u001b[0m                                  Traceback (most recent call last)",
      "Input \u001b[0;32mIn [34]\u001b[0m, in \u001b[0;36m<cell line: 1>\u001b[0;34m()\u001b[0m\n\u001b[0;32m----> 1\u001b[0m \u001b[43mload_all\u001b[49m\u001b[43m(\u001b[49m\u001b[38;5;124;43m'\u001b[39;49m\u001b[38;5;124;43mUSA\u001b[39;49m\u001b[38;5;124;43m'\u001b[39;49m\u001b[43m)\u001b[49m\n",
      "Input \u001b[0;32mIn [33]\u001b[0m, in \u001b[0;36mload_all\u001b[0;34m(country_code, admin_level, date_range, modis_collection, num_pixels)\u001b[0m\n\u001b[1;32m     51\u001b[0m \u001b[38;5;28;01mfor\u001b[39;00m state_name \u001b[38;5;129;01min\u001b[39;00m state_names:\n\u001b[1;32m     52\u001b[0m     \u001b[38;5;28mprint\u001b[39m(\u001b[38;5;124mf\u001b[39m\u001b[38;5;124m'\u001b[39m\u001b[38;5;124mworking on:\u001b[39m\u001b[38;5;132;01m{\u001b[39;00mstate_name\u001b[38;5;132;01m}\u001b[39;00m\u001b[38;5;124m'\u001b[39m)\n\u001b[0;32m---> 53\u001b[0m     df \u001b[38;5;241m=\u001b[39m \u001b[43mdownload_map\u001b[49m\u001b[43m(\u001b[49m\u001b[43mcountry_code\u001b[49m\u001b[43m,\u001b[49m\u001b[43m \u001b[49m\u001b[43mstate_name\u001b[49m\u001b[43m,\u001b[49m\u001b[43m \u001b[49m\u001b[43mdate_range\u001b[49m\u001b[43m,\u001b[49m\u001b[43m \u001b[49m\u001b[43mmodis_collection\u001b[49m\u001b[43m,\u001b[49m\u001b[43m \u001b[49m\u001b[43mnum_pixels\u001b[49m\u001b[43m)\u001b[49m\n\u001b[1;32m     54\u001b[0m     df\u001b[38;5;241m.\u001b[39mto_pickle(\u001b[38;5;124mf\u001b[39m\u001b[38;5;124m'\u001b[39m\u001b[38;5;124m../raw_data/raw_pixels/USA/\u001b[39m\u001b[38;5;132;01m{\u001b[39;00mstate_name\u001b[38;5;132;01m}\u001b[39;00m\u001b[38;5;124m.zip\u001b[39m\u001b[38;5;124m'\u001b[39m)\n\u001b[1;32m     55\u001b[0m     \u001b[38;5;28mprint\u001b[39m(\u001b[38;5;124mf\u001b[39m\u001b[38;5;124m\"\u001b[39m\u001b[38;5;124mDownloaded data for \u001b[39m\u001b[38;5;132;01m{\u001b[39;00mstate_name\u001b[38;5;132;01m}\u001b[39;00m\u001b[38;5;124m...\u001b[39m\u001b[38;5;124m\"\u001b[39m)\n",
      "Input \u001b[0;32mIn [33]\u001b[0m, in \u001b[0;36mdownload_map\u001b[0;34m(country_code, state_name, date_range, modis_collection, num_pixels)\u001b[0m\n\u001b[1;32m     32\u001b[0m         data\u001b[38;5;241m.\u001b[39mappend({\u001b[38;5;124m'\u001b[39m\u001b[38;5;124mband\u001b[39m\u001b[38;5;124m'\u001b[39m: property_name, \u001b[38;5;124m'\u001b[39m\u001b[38;5;124mdate\u001b[39m\u001b[38;5;124m'\u001b[39m: date, \u001b[38;5;124m'\u001b[39m\u001b[38;5;124mvalue\u001b[39m\u001b[38;5;124m'\u001b[39m: v})\n\u001b[1;32m     34\u001b[0m df \u001b[38;5;241m=\u001b[39m pd\u001b[38;5;241m.\u001b[39mDataFrame(data)\n\u001b[0;32m---> 35\u001b[0m df[\u001b[38;5;124m'\u001b[39m\u001b[38;5;124mdate\u001b[39m\u001b[38;5;124m'\u001b[39m] \u001b[38;5;241m=\u001b[39m pd\u001b[38;5;241m.\u001b[39mto_datetime(\u001b[43mdf\u001b[49m\u001b[43m[\u001b[49m\u001b[38;5;124;43m'\u001b[39;49m\u001b[38;5;124;43mdate\u001b[39;49m\u001b[38;5;124;43m'\u001b[39;49m\u001b[43m]\u001b[49m, infer_datetime_format\u001b[38;5;241m=\u001b[39m\u001b[38;5;28;01mTrue\u001b[39;00m)\n\u001b[1;32m     36\u001b[0m df\u001b[38;5;241m.\u001b[39mattrs[\u001b[38;5;124m'\u001b[39m\u001b[38;5;124mstate_name\u001b[39m\u001b[38;5;124m'\u001b[39m] \u001b[38;5;241m=\u001b[39m state_name\n\u001b[1;32m     37\u001b[0m df[\u001b[38;5;124m'\u001b[39m\u001b[38;5;124mband\u001b[39m\u001b[38;5;124m'\u001b[39m] \u001b[38;5;241m=\u001b[39m df[\u001b[38;5;124m'\u001b[39m\u001b[38;5;124mband\u001b[39m\u001b[38;5;124m'\u001b[39m]\u001b[38;5;241m.\u001b[39mastype(\u001b[38;5;124m\"\u001b[39m\u001b[38;5;124mcategory\u001b[39m\u001b[38;5;124m\"\u001b[39m)\n",
      "File \u001b[0;32m~/.pyenv/versions/3.8.12/envs/FoodSecurityForecaster/lib/python3.8/site-packages/pandas/core/frame.py:3505\u001b[0m, in \u001b[0;36mDataFrame.__getitem__\u001b[0;34m(self, key)\u001b[0m\n\u001b[1;32m   3503\u001b[0m \u001b[38;5;28;01mif\u001b[39;00m \u001b[38;5;28mself\u001b[39m\u001b[38;5;241m.\u001b[39mcolumns\u001b[38;5;241m.\u001b[39mnlevels \u001b[38;5;241m>\u001b[39m \u001b[38;5;241m1\u001b[39m:\n\u001b[1;32m   3504\u001b[0m     \u001b[38;5;28;01mreturn\u001b[39;00m \u001b[38;5;28mself\u001b[39m\u001b[38;5;241m.\u001b[39m_getitem_multilevel(key)\n\u001b[0;32m-> 3505\u001b[0m indexer \u001b[38;5;241m=\u001b[39m \u001b[38;5;28;43mself\u001b[39;49m\u001b[38;5;241;43m.\u001b[39;49m\u001b[43mcolumns\u001b[49m\u001b[38;5;241;43m.\u001b[39;49m\u001b[43mget_loc\u001b[49m\u001b[43m(\u001b[49m\u001b[43mkey\u001b[49m\u001b[43m)\u001b[49m\n\u001b[1;32m   3506\u001b[0m \u001b[38;5;28;01mif\u001b[39;00m is_integer(indexer):\n\u001b[1;32m   3507\u001b[0m     indexer \u001b[38;5;241m=\u001b[39m [indexer]\n",
      "File \u001b[0;32m~/.pyenv/versions/3.8.12/envs/FoodSecurityForecaster/lib/python3.8/site-packages/pandas/core/indexes/base.py:3631\u001b[0m, in \u001b[0;36mIndex.get_loc\u001b[0;34m(self, key, method, tolerance)\u001b[0m\n\u001b[1;32m   3629\u001b[0m     \u001b[38;5;28;01mreturn\u001b[39;00m \u001b[38;5;28mself\u001b[39m\u001b[38;5;241m.\u001b[39m_engine\u001b[38;5;241m.\u001b[39mget_loc(casted_key)\n\u001b[1;32m   3630\u001b[0m \u001b[38;5;28;01mexcept\u001b[39;00m \u001b[38;5;167;01mKeyError\u001b[39;00m \u001b[38;5;28;01mas\u001b[39;00m err:\n\u001b[0;32m-> 3631\u001b[0m     \u001b[38;5;28;01mraise\u001b[39;00m \u001b[38;5;167;01mKeyError\u001b[39;00m(key) \u001b[38;5;28;01mfrom\u001b[39;00m \u001b[38;5;21;01merr\u001b[39;00m\n\u001b[1;32m   3632\u001b[0m \u001b[38;5;28;01mexcept\u001b[39;00m \u001b[38;5;167;01mTypeError\u001b[39;00m:\n\u001b[1;32m   3633\u001b[0m     \u001b[38;5;66;03m# If we have a listlike key, _check_indexing_error will raise\u001b[39;00m\n\u001b[1;32m   3634\u001b[0m     \u001b[38;5;66;03m#  InvalidIndexError. Otherwise we fall through and re-raise\u001b[39;00m\n\u001b[1;32m   3635\u001b[0m     \u001b[38;5;66;03m#  the TypeError.\u001b[39;00m\n\u001b[1;32m   3636\u001b[0m     \u001b[38;5;28mself\u001b[39m\u001b[38;5;241m.\u001b[39m_check_indexing_error(key)\n",
      "\u001b[0;31mKeyError\u001b[0m: 'date'"
     ]
    }
   ],
   "source": [
    "load_all('USA')"
   ]
  },
  {
   "cell_type": "markdown",
   "id": "c12d4220",
   "metadata": {},
   "source": [
    "# SOUTH SUDAN"
   ]
  },
  {
   "cell_type": "code",
   "execution_count": null,
   "id": "d877531d",
   "metadata": {},
   "outputs": [],
   "source": [
    "state_names = pd.read_csv('../raw_data/state_names_SSD.csv')['NAME_2,C,13']\n",
    "state_names.head()"
   ]
  },
  {
   "cell_type": "code",
   "execution_count": null,
   "id": "4d20e677",
   "metadata": {},
   "outputs": [],
>>>>>>> 3f0734057fca272d5ba8a59b6361ec90a31c5b59
   "source": [
    "Map = geemap.Map() \n",
    "states_shp = f'../raw_data/USA/admin1/USA.shp'\n",
    "\n",
    "ee_shape = geemap.shp_to_ee(states_shp)\n",
    "state_ee = ee_shape.filter(ee.Filter.eq(\"NAME1_,C,33\", 'Alabama'))\n",
    "\n",
    "\n",
    "image_collection = ee.ImageCollection(f'MODIS/006/MOD13A1').filter(ee.Filter.date('2021-01-01','2022-12-30')).toBands().\n",
    "\n",
    "region = state_ee.geometry() \n",
    "\n",
    "Map.addLayer(state_ee.geometry())\n",
    "Map"
   ]
  },
  {
   "cell_type": "code",
   "execution_count": null,
   "id": "353c951e",
   "metadata": {},
   "outputs": [],
   "source": []
  }
 ],
 "metadata": {
  "kernelspec": {
   "display_name": "Python 3.8.12 64-bit ('lewagon')",
   "language": "python",
   "name": "python3"
  },
  "language_info": {
   "codemirror_mode": {
    "name": "ipython",
    "version": 3
   },
   "file_extension": ".py",
   "mimetype": "text/x-python",
   "name": "python",
   "nbconvert_exporter": "python",
   "pygments_lexer": "ipython3",
   "version": "3.8.12"
  },
  "toc": {
   "base_numbering": 1,
   "nav_menu": {},
   "number_sections": true,
   "sideBar": true,
   "skip_h1_title": false,
   "title_cell": "Table of Contents",
   "title_sidebar": "Contents",
   "toc_cell": false,
   "toc_position": {},
   "toc_section_display": true,
   "toc_window_display": false
  },
  "vscode": {
   "interpreter": {
    "hash": "256a08527501457108049896245f661e306d498b0e59a5668670d2e3b630dd5c"
   }
  }
 },
 "nbformat": 4,
 "nbformat_minor": 5
}
