{
 "cells": [
  {
   "cell_type": "code",
   "execution_count": 1,
   "id": "2774212e",
   "metadata": {},
   "outputs": [],
   "source": [
    "# install these packakes if importing modules break \n",
    "\n",
    "# !pip install geemap\n",
    "# !pip install earthengine-api --upgrade \n",
    "# !pip install pyshp"
   ]
  },
  {
   "cell_type": "code",
   "execution_count": 3,
   "id": "33605b82",
   "metadata": {},
   "outputs": [],
   "source": [
    "import ee\n",
    "import geemap \n",
    "from ee import ImageCollection\n",
    "\n",
    "import os\n",
    "import numpy as np\n",
    "import matplotlib.pyplot as plt"
   ]
  },
  {
   "cell_type": "markdown",
   "id": "d96e1277",
   "metadata": {},
   "source": [
    "# Create geometry by county"
   ]
  },
  {
   "cell_type": "markdown",
   "id": "1b23e20f",
   "metadata": {},
   "source": [
    "## Create blank map"
   ]
  },
  {
   "cell_type": "code",
   "execution_count": 4,
   "id": "b4406937",
   "metadata": {},
   "outputs": [],
   "source": [
    "ee.Initialize()\n",
    "Map = geemap.Map()"
   ]
  },
  {
   "cell_type": "markdown",
   "id": "5fb245b3",
   "metadata": {},
   "source": [
    "## Import data from .shp file. "
   ]
  },
  {
   "cell_type": "code",
   "execution_count": 1,
   "id": "8dd5dafd",
   "metadata": {},
   "outputs": [
    {
     "name": "stdout",
     "output_type": "stream",
     "text": [
      "/home/hassib12/code/hassib12/FoodSecurityForecaster/notebooks\n"
     ]
    }
   ],
   "source": [
    "!pwd"
   ]
  },
  {
   "cell_type": "code",
   "execution_count": 5,
   "id": "882b4802",
   "metadata": {},
   "outputs": [],
   "source": [
    "county_shp = '../raw_data/gadm41_IND_shp/gadm41_IND_1.shp'\n",
    "ee_shape = geemap.shp_to_ee(county_shp)\n",
    "#ee_shape.getInfo()"
   ]
  },
  {
   "cell_type": "markdown",
   "id": "2dbfd7b9",
   "metadata": {},
   "source": [
    "##  Filter by county ('name_2') from shapefile"
   ]
  },
  {
   "cell_type": "code",
   "execution_count": 6,
   "id": "a03aa04c",
   "metadata": {},
   "outputs": [],
   "source": [
    "county_Bahr_al_Jabal = ee_shape.filter(ee.Filter.eq(\"NAME_1,C,22\", 'Assam'))"
   ]
  },
  {
   "cell_type": "code",
   "execution_count": 8,
   "id": "d90ba3d6",
   "metadata": {
    "scrolled": true
   },
   "outputs": [
    {
     "ename": "EEException",
     "evalue": "Request payload size exceeds the limit: 10485760 bytes.",
     "output_type": "error",
     "traceback": [
      "\u001b[0;31m---------------------------------------------------------------------------\u001b[0m",
      "\u001b[0;31mHttpError\u001b[0m                                 Traceback (most recent call last)",
      "\u001b[0;32m~/.pyenv/versions/lewagon/lib/python3.8/site-packages/ee/data.py\u001b[0m in \u001b[0;36m_execute_cloud_call\u001b[0;34m(call, num_retries)\u001b[0m\n\u001b[1;32m    327\u001b[0m   \u001b[0;32mtry\u001b[0m\u001b[0;34m:\u001b[0m\u001b[0;34m\u001b[0m\u001b[0;34m\u001b[0m\u001b[0m\n\u001b[0;32m--> 328\u001b[0;31m     \u001b[0;32mreturn\u001b[0m \u001b[0mcall\u001b[0m\u001b[0;34m.\u001b[0m\u001b[0mexecute\u001b[0m\u001b[0;34m(\u001b[0m\u001b[0mnum_retries\u001b[0m\u001b[0;34m=\u001b[0m\u001b[0mnum_retries\u001b[0m\u001b[0;34m)\u001b[0m\u001b[0;34m\u001b[0m\u001b[0;34m\u001b[0m\u001b[0m\n\u001b[0m\u001b[1;32m    329\u001b[0m   \u001b[0;32mexcept\u001b[0m \u001b[0mgoogleapiclient\u001b[0m\u001b[0;34m.\u001b[0m\u001b[0merrors\u001b[0m\u001b[0;34m.\u001b[0m\u001b[0mHttpError\u001b[0m \u001b[0;32mas\u001b[0m \u001b[0me\u001b[0m\u001b[0;34m:\u001b[0m\u001b[0;34m\u001b[0m\u001b[0;34m\u001b[0m\u001b[0m\n",
      "\u001b[0;32m~/.pyenv/versions/lewagon/lib/python3.8/site-packages/googleapiclient/_helpers.py\u001b[0m in \u001b[0;36mpositional_wrapper\u001b[0;34m(*args, **kwargs)\u001b[0m\n\u001b[1;32m    133\u001b[0m                     \u001b[0mlogger\u001b[0m\u001b[0;34m.\u001b[0m\u001b[0mwarning\u001b[0m\u001b[0;34m(\u001b[0m\u001b[0mmessage\u001b[0m\u001b[0;34m)\u001b[0m\u001b[0;34m\u001b[0m\u001b[0;34m\u001b[0m\u001b[0m\n\u001b[0;32m--> 134\u001b[0;31m             \u001b[0;32mreturn\u001b[0m \u001b[0mwrapped\u001b[0m\u001b[0;34m(\u001b[0m\u001b[0;34m*\u001b[0m\u001b[0margs\u001b[0m\u001b[0;34m,\u001b[0m \u001b[0;34m**\u001b[0m\u001b[0mkwargs\u001b[0m\u001b[0;34m)\u001b[0m\u001b[0;34m\u001b[0m\u001b[0;34m\u001b[0m\u001b[0m\n\u001b[0m\u001b[1;32m    135\u001b[0m \u001b[0;34m\u001b[0m\u001b[0m\n",
      "\u001b[0;32m~/.pyenv/versions/lewagon/lib/python3.8/site-packages/googleapiclient/http.py\u001b[0m in \u001b[0;36mexecute\u001b[0;34m(self, http, num_retries)\u001b[0m\n\u001b[1;32m    914\u001b[0m         \u001b[0;32mif\u001b[0m \u001b[0mresp\u001b[0m\u001b[0;34m.\u001b[0m\u001b[0mstatus\u001b[0m \u001b[0;34m>=\u001b[0m \u001b[0;36m300\u001b[0m\u001b[0;34m:\u001b[0m\u001b[0;34m\u001b[0m\u001b[0;34m\u001b[0m\u001b[0m\n\u001b[0;32m--> 915\u001b[0;31m             \u001b[0;32mraise\u001b[0m \u001b[0mHttpError\u001b[0m\u001b[0;34m(\u001b[0m\u001b[0mresp\u001b[0m\u001b[0;34m,\u001b[0m \u001b[0mcontent\u001b[0m\u001b[0;34m,\u001b[0m \u001b[0muri\u001b[0m\u001b[0;34m=\u001b[0m\u001b[0mself\u001b[0m\u001b[0;34m.\u001b[0m\u001b[0muri\u001b[0m\u001b[0;34m)\u001b[0m\u001b[0;34m\u001b[0m\u001b[0;34m\u001b[0m\u001b[0m\n\u001b[0m\u001b[1;32m    916\u001b[0m         \u001b[0;32mreturn\u001b[0m \u001b[0mself\u001b[0m\u001b[0;34m.\u001b[0m\u001b[0mpostproc\u001b[0m\u001b[0;34m(\u001b[0m\u001b[0mresp\u001b[0m\u001b[0;34m,\u001b[0m \u001b[0mcontent\u001b[0m\u001b[0;34m)\u001b[0m\u001b[0;34m\u001b[0m\u001b[0;34m\u001b[0m\u001b[0m\n",
      "\u001b[0;31mHttpError\u001b[0m: <HttpError 400 when requesting https://earthengine.googleapis.com/v1alpha/projects/earthengine-legacy/maps?fields=name&alt=json returned \"Request payload size exceeds the limit: 10485760 bytes.\". Details: \"Request payload size exceeds the limit: 10485760 bytes.\">",
      "\nDuring handling of the above exception, another exception occurred:\n",
      "\u001b[0;31mEEException\u001b[0m                               Traceback (most recent call last)",
      "\u001b[0;32m/tmp/ipykernel_7350/1486669468.py\u001b[0m in \u001b[0;36m<module>\u001b[0;34m\u001b[0m\n\u001b[1;32m      1\u001b[0m \u001b[0;31m# test\u001b[0m\u001b[0;34m\u001b[0m\u001b[0;34m\u001b[0m\u001b[0;34m\u001b[0m\u001b[0m\n\u001b[0;32m----> 2\u001b[0;31m \u001b[0mMap\u001b[0m\u001b[0;34m.\u001b[0m\u001b[0maddLayer\u001b[0m\u001b[0;34m(\u001b[0m\u001b[0mcounty_Bahr_al_Jabal\u001b[0m\u001b[0;34m.\u001b[0m\u001b[0mgeometry\u001b[0m\u001b[0;34m(\u001b[0m\u001b[0;34m)\u001b[0m\u001b[0;34m)\u001b[0m\u001b[0;34m\u001b[0m\u001b[0;34m\u001b[0m\u001b[0m\n\u001b[0m\u001b[1;32m      3\u001b[0m \u001b[0;31m#Map\u001b[0m\u001b[0;34m\u001b[0m\u001b[0;34m\u001b[0m\u001b[0;34m\u001b[0m\u001b[0m\n",
      "\u001b[0;32m~/.pyenv/versions/lewagon/lib/python3.8/site-packages/geemap/geemap.py\u001b[0m in \u001b[0;36madd_ee_layer\u001b[0;34m(self, ee_object, vis_params, name, shown, opacity)\u001b[0m\n\u001b[1;32m   1507\u001b[0m                 )\n\u001b[1;32m   1508\u001b[0m \u001b[0;34m\u001b[0m\u001b[0m\n\u001b[0;32m-> 1509\u001b[0;31m         \u001b[0mmap_id_dict\u001b[0m \u001b[0;34m=\u001b[0m \u001b[0mee\u001b[0m\u001b[0;34m.\u001b[0m\u001b[0mImage\u001b[0m\u001b[0;34m(\u001b[0m\u001b[0mimage\u001b[0m\u001b[0;34m)\u001b[0m\u001b[0;34m.\u001b[0m\u001b[0mgetMapId\u001b[0m\u001b[0;34m(\u001b[0m\u001b[0mvis_params\u001b[0m\u001b[0;34m)\u001b[0m\u001b[0;34m\u001b[0m\u001b[0;34m\u001b[0m\u001b[0m\n\u001b[0m\u001b[1;32m   1510\u001b[0m         tile_layer = ipyleaflet.TileLayer(\n\u001b[1;32m   1511\u001b[0m             \u001b[0murl\u001b[0m\u001b[0;34m=\u001b[0m\u001b[0mmap_id_dict\u001b[0m\u001b[0;34m[\u001b[0m\u001b[0;34m\"tile_fetcher\"\u001b[0m\u001b[0;34m]\u001b[0m\u001b[0;34m.\u001b[0m\u001b[0murl_format\u001b[0m\u001b[0;34m,\u001b[0m\u001b[0;34m\u001b[0m\u001b[0;34m\u001b[0m\u001b[0m\n",
      "\u001b[0;32m~/.pyenv/versions/lewagon/lib/python3.8/site-packages/ee/image.py\u001b[0m in \u001b[0;36mgetMapId\u001b[0;34m(self, vis_params)\u001b[0m\n\u001b[1;32m    128\u001b[0m     \u001b[0mvis_image\u001b[0m\u001b[0;34m,\u001b[0m \u001b[0mrequest\u001b[0m \u001b[0;34m=\u001b[0m \u001b[0mself\u001b[0m\u001b[0;34m.\u001b[0m\u001b[0m_apply_visualization\u001b[0m\u001b[0;34m(\u001b[0m\u001b[0mvis_params\u001b[0m\u001b[0;34m)\u001b[0m\u001b[0;34m\u001b[0m\u001b[0;34m\u001b[0m\u001b[0m\n\u001b[1;32m    129\u001b[0m     \u001b[0mrequest\u001b[0m\u001b[0;34m[\u001b[0m\u001b[0;34m'image'\u001b[0m\u001b[0;34m]\u001b[0m \u001b[0;34m=\u001b[0m \u001b[0mvis_image\u001b[0m\u001b[0;34m\u001b[0m\u001b[0;34m\u001b[0m\u001b[0m\n\u001b[0;32m--> 130\u001b[0;31m     \u001b[0mresponse\u001b[0m \u001b[0;34m=\u001b[0m \u001b[0mdata\u001b[0m\u001b[0;34m.\u001b[0m\u001b[0mgetMapId\u001b[0m\u001b[0;34m(\u001b[0m\u001b[0mrequest\u001b[0m\u001b[0;34m)\u001b[0m\u001b[0;34m\u001b[0m\u001b[0;34m\u001b[0m\u001b[0m\n\u001b[0m\u001b[1;32m    131\u001b[0m     \u001b[0mresponse\u001b[0m\u001b[0;34m[\u001b[0m\u001b[0;34m'image'\u001b[0m\u001b[0;34m]\u001b[0m \u001b[0;34m=\u001b[0m \u001b[0mself\u001b[0m\u001b[0;34m\u001b[0m\u001b[0;34m\u001b[0m\u001b[0m\n\u001b[1;32m    132\u001b[0m     \u001b[0;32mreturn\u001b[0m \u001b[0mresponse\u001b[0m\u001b[0;34m\u001b[0m\u001b[0;34m\u001b[0m\u001b[0m\n",
      "\u001b[0;32m~/.pyenv/versions/lewagon/lib/python3.8/site-packages/ee/data.py\u001b[0m in \u001b[0;36mgetMapId\u001b[0;34m(params)\u001b[0m\n\u001b[1;32m    565\u001b[0m   \u001b[0;31m# Make it return only the name field, as otherwise it echoes the entire\u001b[0m\u001b[0;34m\u001b[0m\u001b[0;34m\u001b[0m\u001b[0;34m\u001b[0m\u001b[0m\n\u001b[1;32m    566\u001b[0m   \u001b[0;31m# request, which might be large.\u001b[0m\u001b[0;34m\u001b[0m\u001b[0;34m\u001b[0m\u001b[0;34m\u001b[0m\u001b[0m\n\u001b[0;32m--> 567\u001b[0;31m   result = _execute_cloud_call(\n\u001b[0m\u001b[1;32m    568\u001b[0m       _get_cloud_api_resource().projects().maps().create(\n\u001b[1;32m    569\u001b[0m           parent=_get_projects_path(), fields='name', body=request))\n",
      "\u001b[0;32m~/.pyenv/versions/lewagon/lib/python3.8/site-packages/ee/data.py\u001b[0m in \u001b[0;36m_execute_cloud_call\u001b[0;34m(call, num_retries)\u001b[0m\n\u001b[1;32m    328\u001b[0m     \u001b[0;32mreturn\u001b[0m \u001b[0mcall\u001b[0m\u001b[0;34m.\u001b[0m\u001b[0mexecute\u001b[0m\u001b[0;34m(\u001b[0m\u001b[0mnum_retries\u001b[0m\u001b[0;34m=\u001b[0m\u001b[0mnum_retries\u001b[0m\u001b[0;34m)\u001b[0m\u001b[0;34m\u001b[0m\u001b[0;34m\u001b[0m\u001b[0m\n\u001b[1;32m    329\u001b[0m   \u001b[0;32mexcept\u001b[0m \u001b[0mgoogleapiclient\u001b[0m\u001b[0;34m.\u001b[0m\u001b[0merrors\u001b[0m\u001b[0;34m.\u001b[0m\u001b[0mHttpError\u001b[0m \u001b[0;32mas\u001b[0m \u001b[0me\u001b[0m\u001b[0;34m:\u001b[0m\u001b[0;34m\u001b[0m\u001b[0;34m\u001b[0m\u001b[0m\n\u001b[0;32m--> 330\u001b[0;31m     \u001b[0;32mraise\u001b[0m \u001b[0m_translate_cloud_exception\u001b[0m\u001b[0;34m(\u001b[0m\u001b[0me\u001b[0m\u001b[0;34m)\u001b[0m\u001b[0;34m\u001b[0m\u001b[0;34m\u001b[0m\u001b[0m\n\u001b[0m\u001b[1;32m    331\u001b[0m \u001b[0;34m\u001b[0m\u001b[0m\n\u001b[1;32m    332\u001b[0m \u001b[0;34m\u001b[0m\u001b[0m\n",
      "\u001b[0;31mEEException\u001b[0m: Request payload size exceeds the limit: 10485760 bytes."
     ]
    }
   ],
   "source": [
    "# test  \n",
    "Map.addLayer(county_Bahr_al_Jabal.geometry())\n",
    "#Map"
   ]
  },
  {
   "cell_type": "markdown",
   "id": "c06e64ae",
   "metadata": {},
   "source": [
    "# Export from MODIS satellite a collection of images"
   ]
  },
  {
   "cell_type": "code",
   "execution_count": null,
   "id": "afa5dfb6",
   "metadata": {},
   "outputs": [],
   "source": [
    "start_date = '2022-04-20'\n",
    "end_date = '2022-05-04'   \n",
    "MODIS_layer = 'MOD13A1'  #(high to low resolution: MOD13Q1 MOD13A1 MOD13A2)\n",
    "image_collection = ee.ImageCollection(f'MODIS/006/{MODIS_layer}').filter(ee.Filter.date(start_date,end_date)).select(['NDVI']).toBands()\n",
    "#    .filterBounds(county_Bahr_al_Jabal_shp.geometry())\n",
    " \n",
    "\n",
    "## toBands() converts collection into image.   "
   ]
  },
  {
   "cell_type": "markdown",
   "id": "1994d6b4",
   "metadata": {
    "heading_collapsed": true
   },
   "source": [
    "## Crop/clip multiple images in the collection (error!!)"
   ]
  },
  {
   "cell_type": "code",
   "execution_count": null,
   "id": "c3f5e800",
   "metadata": {
    "hidden": true
   },
   "outputs": [],
   "source": [
    "cropped_county = image_collection.map(lambda image: image.clip(county_Bahr_al_Jabal_shp.geometry() ))\n",
    "\n",
    "# test it\n",
    "Map.addLayer(cropped_county)\n",
    "Map"
   ]
  },
  {
   "cell_type": "markdown",
   "id": "5ecde44e",
   "metadata": {},
   "source": [
    "# Sample 5000 px for each image in collection "
   ]
  },
  {
   "cell_type": "code",
   "execution_count": null,
   "id": "1f3ee224",
   "metadata": {},
   "outputs": [],
   "source": [
    "region  = county_Bahr_al_Jabal.geometry()\n",
    "output  = image_collection.sample(region, scale = 300 , numPixels = 5000)\n",
    "output.getInfo()"
   ]
  },
  {
   "cell_type": "code",
   "execution_count": null,
   "id": "098892f7",
   "metadata": {},
   "outputs": [],
   "source": [
    "pixel_value = output.getInfo()['features'][3]['properties']['2022_04_23_NDVI']\n",
    "pixel_value"
   ]
  },
  {
   "cell_type": "code",
   "execution_count": null,
   "id": "91d24de9",
   "metadata": {},
   "outputs": [],
   "source": [
    "# append each pixel to list\n",
    "\n",
    "image_name = '2022_04_23_NDVI' \n",
    "pixel_value_2022_04_23_NDVI_list = []\n",
    "\n",
    "i=0\n",
    "for i in range(number_of_pixels - 1):\n",
    "    pixel_value = output.getInfo()['features'][i]['properties'][image_name]\n",
    "    pixel_value_2022_04_23_NDVI_list.append(pixel_value)\n",
    "    \n",
    "pixel_value_2022_04_23_NDVI_list.shape()"
   ]
  },
  {
   "cell_type": "markdown",
   "id": "eb91ca64",
   "metadata": {},
   "source": [
    "# Create Histogram"
   ]
  },
  {
   "cell_type": "code",
   "execution_count": null,
   "id": "a070ffa2",
   "metadata": {},
   "outputs": [],
   "source": [
    "# histogram for NDVI layer for image of 2022-04-23\n",
    "plt.hist(pixel_value_2022_04_23_NDVI_list, bins=32)\n",
    "\n",
    "\n"
   ]
  }
 ],
 "metadata": {
  "kernelspec": {
   "display_name": "Python 3 (ipykernel)",
   "language": "python",
   "name": "python3"
  },
  "language_info": {
   "codemirror_mode": {
    "name": "ipython",
    "version": 3
   },
   "file_extension": ".py",
   "mimetype": "text/x-python",
   "name": "python",
   "nbconvert_exporter": "python",
   "pygments_lexer": "ipython3",
   "version": "3.8.12"
  },
  "toc": {
   "base_numbering": 1,
   "nav_menu": {},
   "number_sections": true,
   "sideBar": true,
   "skip_h1_title": false,
   "title_cell": "Table of Contents",
   "title_sidebar": "Contents",
   "toc_cell": false,
   "toc_position": {},
   "toc_section_display": true,
   "toc_window_display": false
  },
  "vscode": {
   "interpreter": {
    "hash": "6ae9500f15fc15b7fb51758e9a7ec4bb076f3a4149e2521b4e8947874648e97d"
   }
  }
 },
 "nbformat": 4,
 "nbformat_minor": 5
}
