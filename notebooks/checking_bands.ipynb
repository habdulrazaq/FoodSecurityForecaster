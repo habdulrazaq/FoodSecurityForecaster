{
 "cells": [
  {
   "cell_type": "code",
   "execution_count": 1,
   "id": "d90b9458",
   "metadata": {},
   "outputs": [],
   "source": [
    "import numpy as np\n",
    "import pandas as pd\n",
    "import matplotlib.pyplot as plt"
   ]
  },
  {
   "cell_type": "code",
   "execution_count": 45,
   "id": "82baed90",
   "metadata": {},
   "outputs": [
    {
     "name": "stdout",
     "output_type": "stream",
     "text": [
      "/Users/bingobango/FoodSecurityForecaster/FoodSecurityForecaster/notebooks\r\n"
     ]
    }
   ],
   "source": [
    "!pwd"
   ]
  },
  {
   "cell_type": "code",
   "execution_count": 86,
   "id": "9d48b204",
   "metadata": {},
   "outputs": [],
   "source": [
    "louisiana_data = pd.read_pickle('../raw_data/raw_pixels/USA/Surface_temp_1000p_scale250_2002-2022-minus2011/Louisiana.zip')\n",
    "\n"
   ]
  },
  {
   "cell_type": "code",
   "execution_count": 87,
   "id": "76c1b6e3",
   "metadata": {},
   "outputs": [
    {
     "data": {
      "text/html": [
       "<div>\n",
       "<style scoped>\n",
       "    .dataframe tbody tr th:only-of-type {\n",
       "        vertical-align: middle;\n",
       "    }\n",
       "\n",
       "    .dataframe tbody tr th {\n",
       "        vertical-align: top;\n",
       "    }\n",
       "\n",
       "    .dataframe thead th {\n",
       "        text-align: right;\n",
       "    }\n",
       "</style>\n",
       "<table border=\"1\" class=\"dataframe\">\n",
       "  <thead>\n",
       "    <tr style=\"text-align: right;\">\n",
       "      <th></th>\n",
       "      <th>band</th>\n",
       "      <th>date</th>\n",
       "      <th>value</th>\n",
       "    </tr>\n",
       "  </thead>\n",
       "  <tbody>\n",
       "    <tr>\n",
       "      <th>0</th>\n",
       "      <td>Clear_sky_days</td>\n",
       "      <td>2002-07-04</td>\n",
       "      <td>254</td>\n",
       "    </tr>\n",
       "    <tr>\n",
       "      <th>1</th>\n",
       "      <td>Clear_sky_nights</td>\n",
       "      <td>2002-07-04</td>\n",
       "      <td>201</td>\n",
       "    </tr>\n",
       "    <tr>\n",
       "      <th>2</th>\n",
       "      <td>Day_view_angl</td>\n",
       "      <td>2002-07-04</td>\n",
       "      <td>65</td>\n",
       "    </tr>\n",
       "    <tr>\n",
       "      <th>3</th>\n",
       "      <td>Day_view_time</td>\n",
       "      <td>2002-07-04</td>\n",
       "      <td>133</td>\n",
       "    </tr>\n",
       "    <tr>\n",
       "      <th>4</th>\n",
       "      <td>Emis_31</td>\n",
       "      <td>2002-07-04</td>\n",
       "      <td>247</td>\n",
       "    </tr>\n",
       "  </tbody>\n",
       "</table>\n",
       "</div>"
      ],
      "text/plain": [
       "               band       date  value\n",
       "0    Clear_sky_days 2002-07-04    254\n",
       "1  Clear_sky_nights 2002-07-04    201\n",
       "2     Day_view_angl 2002-07-04     65\n",
       "3     Day_view_time 2002-07-04    133\n",
       "4           Emis_31 2002-07-04    247"
      ]
     },
     "execution_count": 87,
     "metadata": {},
     "output_type": "execute_result"
    }
   ],
   "source": [
    "louisiana_data.head()"
   ]
  },
  {
   "cell_type": "code",
   "execution_count": 88,
   "id": "da95336a",
   "metadata": {},
   "outputs": [
    {
     "data": {
      "text/plain": [
       "Clear_sky_days      46782\n",
       "Clear_sky_nights    46782\n",
       "Day_view_angl       46782\n",
       "Day_view_time       46782\n",
       "Emis_31             46782\n",
       "Emis_32             46782\n",
       "LST_Day_1km         46782\n",
       "LST_Night_1km       46782\n",
       "Night_view_angl     46782\n",
       "Night_view_time     46782\n",
       "QC_Day              46782\n",
       "QC_Night            46782\n",
       "Name: band, dtype: int64"
      ]
     },
     "execution_count": 88,
     "metadata": {},
     "output_type": "execute_result"
    }
   ],
   "source": [
    "louisiana_data['band'].value_counts()"
   ]
  },
  {
   "cell_type": "code",
   "execution_count": 93,
   "id": "5d9837aa",
   "metadata": {},
   "outputs": [],
   "source": [
    "louisiana_bands = np.load('../data/USA_data_MYD11A2_Louisiana.npz')"
   ]
  },
  {
   "cell_type": "code",
   "execution_count": 94,
   "id": "1ce456ae",
   "metadata": {},
   "outputs": [],
   "source": [
    "X = louisiana_bands['X']"
   ]
  },
  {
   "cell_type": "code",
   "execution_count": 95,
   "id": "f1c19d4d",
   "metadata": {},
   "outputs": [
    {
     "data": {
      "text/plain": [
       "(19, 1, 46, 10, 12)"
      ]
     },
     "execution_count": 95,
     "metadata": {},
     "output_type": "execute_result"
    }
   ],
   "source": [
    "X.shape"
   ]
  },
  {
   "cell_type": "code",
   "execution_count": 107,
   "id": "fcfe2a5a",
   "metadata": {},
   "outputs": [
    {
     "data": {
      "text/plain": [
       "<matplotlib.image.AxesImage at 0x1230869d0>"
      ]
     },
     "execution_count": 107,
     "metadata": {},
     "output_type": "execute_result"
    },
    {
     "data": {
      "image/png": "[encoded data removed]",
      "text/plain": [
       "<Figure size 640x480 with 1 Axes>"
      ]
     },
     "metadata": {},
     "output_type": "display_data"
    }
   ],
   "source": [
    "plt.imshow(X[0,:,:,:,7].T)"
   ]
  },
  {
   "cell_type": "code",
   "execution_count": null,
   "id": "9cc124dd",
   "metadata": {},
   "outputs": [],
   "source": []
  }
 ],
 "metadata": {
  "kernelspec": {
   "display_name": "Python 3 (ipykernel)",
   "language": "python",
   "name": "python3"
  },
  "language_info": {
   "codemirror_mode": {
    "name": "ipython",
    "version": 3
   },
   "file_extension": ".py",
   "mimetype": "text/x-python",
   "name": "python",
   "nbconvert_exporter": "python",
   "pygments_lexer": "ipython3",
   "version": "3.8.12"
  },
  "toc": {
   "base_numbering": 1,
   "nav_menu": {},
   "number_sections": true,
   "sideBar": true,
   "skip_h1_title": false,
   "title_cell": "Table of Contents",
   "title_sidebar": "Contents",
   "toc_cell": false,
   "toc_position": {},
   "toc_section_display": true,
   "toc_window_display": false
  }
 },
 "nbformat": 4,
 "nbformat_minor": 5
}
